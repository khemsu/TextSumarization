{
  "nbformat": 4,
  "nbformat_minor": 0,
  "metadata": {
    "colab": {
      "provenance": [],
      "authorship_tag": "ABX9TyMst5eo33ud2h+AnqJz+utD",
      "include_colab_link": true
    },
    "kernelspec": {
      "name": "python3",
      "display_name": "Python 3"
    },
    "language_info": {
      "name": "python"
    }
  },
  "cells": [
    {
      "cell_type": "markdown",
      "metadata": {
        "id": "view-in-github",
        "colab_type": "text"
      },
      "source": [
        "<a href=\"https://colab.research.google.com/github/khemsu/TextSumarization/blob/main/textRank.ipynb\" target=\"_parent\"><img src=\"https://colab.research.google.com/assets/colab-badge.svg\" alt=\"Open In Colab\"/></a>"
      ]
    },
    {
      "cell_type": "code",
      "execution_count": null,
      "metadata": {
        "colab": {
          "base_uri": "https://localhost:8080/"
        },
        "id": "GTapYsuLJ4qa",
        "outputId": "60236da9-34e5-4a4d-8d0d-6c66e8e75600"
      },
      "outputs": [
        {
          "output_type": "stream",
          "name": "stdout",
          "text": [
            "In this article we present different proposals for the construction of the graph\n",
            "and report the results obtained with them. TextRank is a graph-based extractive summarization algorithm. Finally we report the\n",
            "results obtained using the proposed changes. Using different levels of compression, a summarized version of the document of\n",
            "arbitrary length can be obtained. \n",
            "In the field of natural language processing, an extractive summarization task can\n",
            "be described as the selection of the most important sentences in a document.\n"
          ]
        },
        {
          "output_type": "stream",
          "name": "stderr",
          "text": [
            "[nltk_data] Downloading package punkt to /root/nltk_data...\n",
            "[nltk_data]   Package punkt is already up-to-date!\n",
            "[nltk_data] Downloading package stopwords to /root/nltk_data...\n",
            "[nltk_data]   Package stopwords is already up-to-date!\n"
          ]
        }
      ],
      "source": [
        "import nltk\n",
        "import numpy as np\n",
        "from nltk.tokenize import sent_tokenize\n",
        "from nltk.corpus import stopwords\n",
        "from sklearn.feature_extraction.text import TfidfVectorizer\n",
        "from sklearn.metrics.pairwise import cosine_similarity\n",
        "\n",
        "nltk.download('punkt')\n",
        "nltk.download('stopwords')\n",
        "\n",
        "\n",
        "def build_similarity_matrix(sentences, stop_words):\n",
        "    # Preprocess sentences\n",
        "    def preprocess(sentence):\n",
        "        return ' '.join([w.lower() for w in sentence.split() if w.lower() not in stop_words])\n",
        "\n",
        "    cleaned_sentences = [preprocess(s) for s in sentences]\n",
        "\n",
        "    # TF-IDF Vectorization\n",
        "    vectorizer = TfidfVectorizer()\n",
        "    tfidf_matrix = vectorizer.fit_transform(cleaned_sentences)\n",
        "\n",
        "    # Cosine similarity matrix\n",
        "    sim_matrix = cosine_similarity(tfidf_matrix)\n",
        "\n",
        "    # Fill diagonal with 0 (no self similarity)\n",
        "    np.fill_diagonal(sim_matrix, 0)\n",
        "\n",
        "    return sim_matrix\n",
        "\n",
        "\n",
        "def pagerank(M, eps=0.0001, d=0.85):\n",
        "    \"\"\"\n",
        "    Manual PageRank implementation.\n",
        "    M: square numpy matrix (adjacency/similarity matrix), rows sum to 1 (transition matrix)\n",
        "    eps: convergence threshold\n",
        "    d: damping factor\n",
        "    \"\"\"\n",
        "    N = M.shape[0]\n",
        "    v = np.ones(N) / N  # Initial rank vector (uniform)\n",
        "    last_v = np.zeros(N)\n",
        "\n",
        "    # Normalize rows to sum to 1 (transition probability)\n",
        "    row_sums = M.sum(axis=1, keepdims=True)\n",
        "    # Add a small epsilon to avoid division by zero\n",
        "    M = M / (row_sums + 1e-8)\n",
        "\n",
        "    while np.linalg.norm(v - last_v) > eps:\n",
        "        last_v = v.copy()\n",
        "        v = (1 - d) / N + d * M.T.dot(v)\n",
        "\n",
        "    return v\n",
        "\n",
        "\n",
        "def textrank_summarize_manual_pagerank(text, top_n=3):\n",
        "    sentences = sent_tokenize(text)\n",
        "    stop_words = set(stopwords.words('english'))\n",
        "\n",
        "    sim_matrix = build_similarity_matrix(sentences, stop_words)\n",
        "    scores = pagerank(sim_matrix)\n",
        "\n",
        "    # Rank sentences by score\n",
        "    ranked_sentences = sorted(((scores[i], s) for i, s in enumerate(sentences)), reverse=True)\n",
        "\n",
        "    # Return top_n sentences as summary\n",
        "    summary = ' '.join([s for _, s in ranked_sentences[:top_n]])\n",
        "    return summary\n",
        "\n",
        "\n",
        "# Example usage:\n",
        "text = \"\"\"\n",
        "In the field of natural language processing, an extractive summarization task can\n",
        "be described as the selection of the most important sentences in a document.\n",
        "Using different levels of compression, a summarized version of the document of\n",
        "arbitrary length can be obtained.\n",
        "TextRank is a graph-based extractive summarization algorithm. It is domain\n",
        "and language independent since it does not require deep linguistic knowledge,\n",
        "nor domain or language specific annotated corpora [16]. These features makes the\n",
        "algorithm widely used: it performs well summarizing structured text like news\n",
        "articles, but it has also shown good results in other usages such as summarizing\n",
        "meeting transcriptions [8] and assessing web content credibility [1].\n",
        "In this article we present different proposals for the construction of the graph\n",
        "and report the results obtained with them.\n",
        "The first sections of this article describe previous work in the area and an\n",
        "overview of the TextRank algorithm. Then we present the variations and describe\n",
        "the different metrics and dataset used for the evaluation. Finally we report the\n",
        "results obtained using the proposed changes.\n",
        "\"\"\"\n",
        "\n",
        "summary = textrank_summarize_manual_pagerank(text, top_n=5)\n",
        "print(summary)"
      ]
    },
    {
      "cell_type": "code",
      "source": [],
      "metadata": {
        "id": "b_5L5iJMJ8V7"
      },
      "execution_count": null,
      "outputs": []
    }
  ]
}